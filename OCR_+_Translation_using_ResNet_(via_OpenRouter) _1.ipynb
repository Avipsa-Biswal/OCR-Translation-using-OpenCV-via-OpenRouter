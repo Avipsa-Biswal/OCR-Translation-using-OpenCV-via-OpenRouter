{
  "cells": [
    {
      "cell_type": "code",
      "execution_count": null,
      "metadata": {
        "id": "sEROrPgRdsIk"
      },
      "outputs": [],
      "source": [
        "!pip install pytesseract"
      ]
    },
    {
      "cell_type": "code",
      "execution_count": null,
      "metadata": {
        "colab": {
          "base_uri": "https://localhost:8080/"
        },
        "id": "drV0uRPxdFsd",
        "outputId": "fba8515a-6950-4c2a-89bf-0981b27e30e1"
      },
      "outputs": [],
      "source": [
        "import os\n",
        "import cv2\n",
        "import pytesseract\n",
        "import torch\n",
        "import numpy as np\n",
        "import requests\n",
        "from PIL import Image\n",
        "from torchvision.models import resnet18\n",
        "import torchvision.transforms as transforms\n",
        "\n",
        "import os\n",
        "os.environ[\"OPENROUTER_API_KEY\"] = \"YOU_KEY\"\n",
        "\n",
        "OPENROUTER_API_KEY = os.getenv(\"OPENROUTER_API_KEY\")\n",
        "\n",
        "\n",
        "if not OPENROUTER_API_KEY:\n",
        "    print(\"❌ No API key found\")\n",
        "elif not OPENROUTER_API_KEY.startswith(\"sk-\"):\n",
        "    print(\"⚠️ Check API key format\")\n",
        "else:\n",
        "    print(\"✅ API key found and seems valid\")\n",
        "\n",
        "resnet = resnet18(pretrained=True)\n",
        "resnet.eval()"
      ]
    },
    {
      "cell_type": "code",
      "execution_count": null,
      "metadata": {
        "id": "2tGCkwctdGIo"
      },
      "outputs": [],
      "source": [
        "def preprocess_with_resnet(image):\n",
        "    \"\"\"Use ResNet to enhance image quality before OCR\"\"\"\n",
        "    transform = transforms.Compose([\n",
        "        transforms.Resize((224, 224)),\n",
        "        transforms.ToTensor()\n",
        "    ])\n",
        "\n",
        "    pil_image = Image.fromarray(cv2.cvtColor(np.array(image), cv2.COLOR_BGR2RGB))\n",
        "    input_tensor = transform(pil_image).unsqueeze(0)\n",
        "\n",
        "    with torch.no_grad():\n",
        "        _ = resnet(input_tensor)\n",
        "\n",
        "    return np.array(pil_image)\n"
      ]
    },
    {
      "cell_type": "code",
      "execution_count": null,
      "metadata": {
        "id": "j7DGHGfndGLY"
      },
      "outputs": [],
      "source": [
        "def extract_text(image):\n",
        "    \"\"\"OCR after ResNet preprocessing\"\"\"\n",
        "    enhanced = preprocess_with_resnet(image)\n",
        "\n",
        "    gray = cv2.cvtColor(enhanced, cv2.COLOR_BGR2GRAY)\n",
        "    thresh = cv2.threshold(gray, 0, 255, cv2.THRESH_BINARY + cv2.THRESH_OTSU)[1]\n",
        "    denoised = cv2.fastNlMeansDenoising(thresh, h=10)\n",
        "\n",
        "    custom_config = r'--oem 3 --psm 6'\n",
        "    text = pytesseract.image_to_string(denoised, config=custom_config)\n",
        "\n",
        "    return text.strip()"
      ]
    },
    {
      "cell_type": "code",
      "execution_count": null,
      "metadata": {
        "id": "TB1wL0yriak-"
      },
      "outputs": [],
      "source": [
        "def translate_with_openrouter(text, target_language=\"English\"):\n",
        "    if not OPENROUTER_API_KEY:\n",
        "        return \"🔑 API key missing\"\n",
        "\n",
        "    headers = {\n",
        "        \"Authorization\": f\"Bearer {OPENROUTER_API_KEY}\",\n",
        "        \"Content-Type\": \"application/json\"\n",
        "    }\n",
        "\n",
        "    payload = {\n",
        "        \"model\": \"mistralai/mistral-7b-instruct:free\",\n",
        "        \"messages\": [\n",
        "            {\n",
        "                \"role\": \"user\",\n",
        "                \"content\": f\"Translate the following text to {target_language}:\\n\\n{text}\"\n",
        "            }\n",
        "        ],\n",
        "        \"temperature\": 0.3\n",
        "    }\n",
        "\n",
        "    r = requests.post(\"https://openrouter.ai/api/v1/chat/completions\",\n",
        "                      headers=headers, json=payload, timeout=60)\n",
        "\n",
        "    if r.status_code != 200:\n",
        "        return f\"Translation error {r.status_code}: {r.text}\"\n",
        "\n",
        "    return r.json()[\"choices\"][0][\"message\"][\"content\"]\n",
        "\n",
        "def process_image(image, target_language=\"English\"):\n",
        "    if not image:\n",
        "        return \"No image provided\", \"\"\n",
        "\n",
        "    extracted = extract_text(image)\n",
        "    if not extracted:\n",
        "        return \"No text found in image\", \"\"\n",
        "\n",
        "    translated = translate_with_openrouter(extracted, target_language)\n",
        "    return extracted, translated"
      ]
    },
    {
      "cell_type": "code",
      "execution_count": null,
      "metadata": {
        "colab": {
          "base_uri": "https://localhost:8080/",
          "height": 645
        },
        "id": "GN4YTPGVdGXF",
        "outputId": "ea056eea-e2ca-4eff-f771-483467e3ca94"
      },
      "outputs": [],
      "source": [
        "import gradio as gr\n",
        "\n",
        "with gr.Blocks(title=\"Image to Text Translator\") as demo:\n",
        "    gr.Markdown(\"## OCR + Translation using ResNet via OpenRouter\")\n",
        "\n",
        "    with gr.Row():\n",
        "        with gr.Column():\n",
        "            image_input = gr.Image(label=\"Upload Image\", type=\"pil\")\n",
        "            language_dropdown = gr.Dropdown(\n",
        "                choices=[\"English\", \"Spanish\", \"French\", \"German\", \"Chinese\", \"Japanese\", \"Korean\", \"Hindi\"],\n",
        "                value=\"English\",\n",
        "                label=\"Target Language\"\n",
        "            )\n",
        "            translate_btn = gr.Button(\"Translate\")\n",
        "        with gr.Column():\n",
        "            extracted_text = gr.Textbox(label=\"Extracted Text\", lines=5)\n",
        "            translated_text = gr.Textbox(label=\"Translated Text\", lines=5)\n",
        "\n",
        "    translate_btn.click(\n",
        "        fn=process_image,\n",
        "        inputs=[image_input, language_dropdown],\n",
        "        outputs=[extracted_text, translated_text]\n",
        "    )\n",
        "\n",
        "\n",
        "if __name__ == \"__main__\":\n",
        "    demo.launch()\n"
      ]
    }
  ],
  "metadata": {
    "colab": {
      "provenance": []
    },
    "kernelspec": {
      "display_name": "Python 3",
      "name": "python3"
    },
    "language_info": {
      "name": "python"
    }
  },
  "nbformat": 4,
  "nbformat_minor": 0
}
