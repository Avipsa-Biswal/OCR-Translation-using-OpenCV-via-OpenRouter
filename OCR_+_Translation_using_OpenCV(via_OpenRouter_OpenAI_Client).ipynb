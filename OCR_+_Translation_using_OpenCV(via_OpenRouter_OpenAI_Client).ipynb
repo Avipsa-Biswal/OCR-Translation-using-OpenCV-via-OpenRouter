{
  "nbformat": 4,
  "nbformat_minor": 0,
  "metadata": {
    "colab": {
      "provenance": []
    },
    "kernelspec": {
      "name": "python3",
      "display_name": "Python 3"
    },
    "language_info": {
      "name": "python"
    }
  },
  "cells": [
    {
      "cell_type": "code",
      "source": [
        "!pip install opencv-python-headless\n",
        "!pip install pytesseract torchvision torch gradio requests"
      ],
      "metadata": {
        "id": "sEROrPgRdsIk"
      },
      "execution_count": null,
      "outputs": []
    },
    {
      "cell_type": "code",
      "source": [
        "!pip install openai python-dotenv"
      ],
      "metadata": {
        "id": "6T5Mwvbdhobo"
      },
      "execution_count": null,
      "outputs": []
    },
    {
      "cell_type": "code",
      "execution_count": 22,
      "metadata": {
        "id": "drV0uRPxdFsd",
        "colab": {
          "base_uri": "https://localhost:8080/"
        },
        "outputId": "d0d6b385-8422-4c88-fa75-01b2c1a4e536"
      },
      "outputs": [
        {
          "output_type": "stream",
          "name": "stdout",
          "text": [
            "✅ API key found and seems valid\n"
          ]
        }
      ],
      "source": [
        "import os\n",
        "import cv2\n",
        "import pytesseract\n",
        "import torch\n",
        "import numpy as np\n",
        "import requests\n",
        "from PIL import Image\n",
        "import torchvision.transforms as transforms\n",
        "from dotenv import load_dotenv\n",
        "from openai import OpenAI\n",
        "\n",
        "os.environ[\"OPENROUTER_API_KEY\"] = \"YOUR_KEY\"\n",
        "\n",
        "OPENROUTER_API_KEY = os.getenv(\"OPENROUTER_API_KEY\")\n",
        "\n",
        "client = OpenAI(\n",
        "    api_key=OPENROUTER_API_KEY,\n",
        "    base_url=\"https://openrouter.ai/api/v1\"\n",
        ")\n",
        "\n",
        "if not OPENROUTER_API_KEY:\n",
        "    print(\"❌ No API key found\")\n",
        "elif not OPENROUTER_API_KEY.startswith(\"sk-\"):\n",
        "    print(\"⚠️ Check API key format\")\n",
        "else:\n",
        "    print(\"✅ API key found and seems valid\")"
      ]
    },
    {
      "cell_type": "code",
      "source": [
        "def transform_image(image):\n",
        "    \"\"\"Resize and convert image format for preprocessing\"\"\"\n",
        "    transform = transforms.Compose([\n",
        "        transforms.Resize((224, 224)),\n",
        "        transforms.ToTensor()\n",
        "    ])\n",
        "\n",
        "    pil_image = Image.fromarray(cv2.cvtColor(np.array(image), cv2.COLOR_BGR2RGB))\n",
        "    input_tensor = transform(pil_image).unsqueeze(0)\n",
        "\n",
        "    return np.array(pil_image)\n"
      ],
      "metadata": {
        "id": "2tGCkwctdGIo"
      },
      "execution_count": null,
      "outputs": []
    },
    {
      "cell_type": "code",
      "source": [
        "def extract_text(image):\n",
        "    \"\"\"OCR after ResNet preprocessing\"\"\"\n",
        "    enhanced = transform_image(image)\n",
        "\n",
        "    gray = cv2.cvtColor(enhanced, cv2.COLOR_BGR2GRAY)\n",
        "    thresh = cv2.threshold(gray, 0, 255, cv2.THRESH_BINARY + cv2.THRESH_OTSU)[1]\n",
        "    denoised = cv2.fastNlMeansDenoising(thresh, h=10)\n",
        "\n",
        "    custom_config = r'--oem 3 --psm 6'\n",
        "    text = pytesseract.image_to_string(denoised, config=custom_config)\n",
        "\n",
        "    return text.strip()"
      ],
      "metadata": {
        "id": "j7DGHGfndGLY"
      },
      "execution_count": null,
      "outputs": []
    },
    {
      "cell_type": "code",
      "source": [
        "def translate_with_openrouter_chatgptmodel(text, target_language=\"English\"):\n",
        "    try:\n",
        "        response = client.chat.completions.create(\n",
        "            model=\"openai/gpt-4o\",\n",
        "            messages=[\n",
        "                {\n",
        "                    \"role\": \"user\",\n",
        "                    \"content\": f\"Translate the following text to {target_language}:\\n\\n{text}\"\n",
        "                }\n",
        "            ],\n",
        "            temperature=0.3,\n",
        "            max_tokens=500\n",
        "        )\n",
        "        return response.choices[0].message.content\n",
        "    except Exception as e:\n",
        "        return f\"❌ Translation error: {e}\"\n"
      ],
      "metadata": {
        "id": "_A6FaowweX98"
      },
      "execution_count": null,
      "outputs": []
    },
    {
      "cell_type": "code",
      "source": [
        "def process_image(image, target_language=\"English\"):\n",
        "    if not image:\n",
        "        return \"No image provided\", \"\"\n",
        "\n",
        "    extracted = extract_text(image)\n",
        "    if not extracted:\n",
        "        return \"No text found in image\", \"\"\n",
        "\n",
        "    translated = translate_with_openrouter_chatgptmodel(extracted, target_language)\n",
        "    return extracted, translated"
      ],
      "metadata": {
        "id": "XjDUTHCwebqu"
      },
      "execution_count": null,
      "outputs": []
    },
    {
      "cell_type": "code",
      "source": [
        "import gradio as gr\n",
        "\n",
        "with gr.Blocks(title=\"Image to Text Translator\") as demo:\n",
        "    gr.Markdown(\"## OCR + Translation using OpenCV (via OpenRouter)\")\n",
        "\n",
        "    with gr.Row():\n",
        "        with gr.Column():\n",
        "            image_input = gr.Image(label=\"Upload Image\", type=\"pil\")\n",
        "            language_dropdown = gr.Dropdown(\n",
        "                choices=[\"English\", \"Spanish\", \"French\", \"German\", \"Chinese\", \"Japanese\", \"Korean\", \"Hindi\"],\n",
        "                value=\"English\",\n",
        "                label=\"Target Language\"\n",
        "            )\n",
        "            translate_btn = gr.Button(\"Translate\")\n",
        "        with gr.Column():\n",
        "            extracted_text = gr.Textbox(label=\"Extracted Text\", lines=5)\n",
        "            translated_text = gr.Textbox(label=\"Translated Text\", lines=5)\n",
        "\n",
        "    translate_btn.click(\n",
        "        fn=process_image,\n",
        "        inputs=[image_input, language_dropdown],\n",
        "        outputs=[extracted_text, translated_text]\n",
        "    )\n",
        "\n",
        "demo.launch()"
      ],
      "metadata": {
        "id": "GN4YTPGVdGXF"
      },
      "execution_count": null,
      "outputs": []
    }
  ]
}
